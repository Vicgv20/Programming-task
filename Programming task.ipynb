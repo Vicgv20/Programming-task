{
 "cells": [
  {
   "cell_type": "markdown",
   "metadata": {},
   "source": [
    "## Programming Task"
   ]
  },
  {
   "cell_type": "code",
   "execution_count": 26,
   "metadata": {},
   "outputs": [
    {
     "name": "stdout",
     "output_type": "stream",
     "text": [
      "177.71.128.21 - - [10/Jul/2018:22:21:28 +0200] \"GET /intranet-analytics/ HTTP/1.1\" 200 3574 \"-\" \"Mozilla/5.0 (X11; U; Linux x86_64; fr-FR) AppleWebKit/534.7 (KHTML, like Gecko) Epiphany/2.30.6 Safari/534.7\"\n",
      "\n",
      "168.41.191.40 - - [09/Jul/2018:10:11:30 +0200] \"GET http://example.net/faq/ HTTP/1.1\" 200 3574 \"-\" \"Mozilla/5.0 (Linux; U; Android 2.3.5; en-us; HTC Vision Build/GRI40) AppleWebKit/533.1 (KHTML, like Gecko) Version/4.0 Mobile Safari/533.1\"\n",
      "\n",
      "168.41.191.41 - - [11/Jul/2018:17:41:30 +0200] \"GET /this/page/does/not/exist/ HTTP/1.1\" 404 3574 \"-\" \"Mozilla/5.0 (Linux; U; Android 2.3.5; en-us; HTC Vision Build/GRI40) AppleWebKit/533.1 (KHTML, like Gecko) Version/4.0 Mobile Safari/533.1\"\n",
      "\n",
      "168.41.191.40 - - [09/Jul/2018:10:10:38 +0200] \"GET http://example.net/blog/category/meta/ HTTP/1.1\" 200 3574 \"-\" \"Mozilla/5.0 (Macintosh; Intel Mac OS X 10_6_7) AppleWebKit/534.24 (KHTML, like Gecko) RockMelt/0.9.58.494 Chrome/11.0.696.71 Safari/534.24\"\n",
      "\n",
      "177.71.128.21 - - [10/Jul/2018:22:22:08 +0200] \"GET /blog/2018/08/survey-your-opinion-matters/ HTTP/1.1\" 200 3574 \"-\" \"Mozilla/5.0 (Windows NT 6.1; WOW64) AppleWebKit/536.6 (KHTML, like Gecko) Chrome/20.0.1092.0 Safari/536.6\"\n",
      "\n",
      "168.41.191.9 - - [09/Jul/2018:23:00:42 +0200] \"GET /docs/manage-users/ HTTP/1.1\" 200 3574 \"-\" \"Mozilla/5.0 (Macintosh; Intel Mac OS X 10_8_0) AppleWebKit/536.3 (KHTML, like Gecko) Chrome/19.0.1063.0 Safari/536.3\"\n",
      "\n",
      "168.41.191.40 - - [09/Jul/2018:10:11:56 +0200] \"GET /blog/category/community/ HTTP/1.1\" 200 3574 \"-\" \"Mozilla/5.0 (X11; U; Linux x86_64; ca-ad) AppleWebKit/531.2+ (KHTML, like Gecko) Safari/531.2+ Epiphany/2.30.6\"\n",
      "\n",
      "168.41.191.34 - - [10/Jul/2018:22:01:17 +0200] \"GET /faq/ HTTP/1.1\" 200 3574 \"-\" \"Mozilla/5.0 (X11; U; Linux x86_64; fr-FR) AppleWebKit/534.7 (KHTML, like Gecko) Epiphany/2.30.6 Safari/534.7\"\n",
      "\n",
      "177.71.128.21 - - [10/Jul/2018:22:21:03 +0200] \"GET /docs/manage-websites/ HTTP/1.1\" 200 3574 \"-\" \"Mozilla/5.0 (compatible; MSIE 10.6; Windows NT 6.1; Trident/5.0; InfoPath.2; SLCC1; .NET CLR 3.0.4506.2152; .NET CLR 3.5.30729; .NET CLR 2.0.50727) 3gpp-gba UNTRUSTED/1.0\"\n",
      "\n",
      "50.112.00.28 - - [11/Jul/2018:15:49:46 +0200] \"GET /faq/how-to-install/ HTTP/1.1\" 200 3574 \"-\" \"Mozilla/5.0 (X11; U; Linux x86_64; ca-ad) AppleWebKit/531.2+ (KHTML, like Gecko) Safari/531.2+ Epiphany/2.30.6\"\n",
      "\n",
      "50.112.00.11 - admin [11/Jul/2018:17:31:56 +0200] \"GET /asset.js HTTP/1.1\" 200 3574 \"-\" \"Mozilla/5.0 (Windows NT 6.1; WOW64) AppleWebKit/536.6 (KHTML, like Gecko) Chrome/20.0.1092.0 Safari/536.6\"\n",
      "\n",
      "72.44.32.11 - - [11/Jul/2018:17:42:07 +0200] \"GET /to-an-error HTTP/1.1\" 500 3574 \"-\" \"Mozilla/5.0 (compatible; MSIE 10.6; Windows NT 6.1; Trident/5.0; InfoPath.2; SLCC1; .NET CLR 3.0.4506.2152; .NET CLR 3.5.30729; .NET CLR 2.0.50727) 3gpp-gba UNTRUSTED/1.0\"\n",
      "\n",
      "72.44.32.10 - - [09/Jul/2018:15:48:07 +0200] \"GET / HTTP/1.1\" 200 3574 \"-\" \"Mozilla/5.0 (compatible; MSIE 10.6; Windows NT 6.1; Trident/5.0; InfoPath.2; SLCC1; .NET CLR 3.0.4506.2152; .NET CLR 3.5.30729; .NET CLR 2.0.50727) 3gpp-gba UNTRUSTED/1.0\" junk extra\n",
      "\n",
      "168.41.191.9 - - [09/Jul/2018:22:56:45 +0200] \"GET /docs/ HTTP/1.1\" 200 3574 \"-\" \"Mozilla/5.0 (X11; Linux i686; rv:6.0) Gecko/20100101 Firefox/6.0\" 456 789\n",
      "\n",
      "168.41.191.43 - - [11/Jul/2018:17:43:40 +0200] \"GET /moved-permanently HTTP/1.1\" 301 3574 \"-\" \"Mozilla/5.0 (Macintosh; Intel Mac OS X 10_6_7) AppleWebKit/534.24 (KHTML, like Gecko) RockMelt/0.9.58.494 Chrome/11.0.696.71 Safari/534.24\"\n",
      "\n",
      "168.41.191.43 - - [11/Jul/2018:17:44:40 +0200] \"GET /temp-redirect HTTP/1.1\" 307 3574 \"-\" \"Mozilla/5.0 (Macintosh; Intel Mac OS X 10_6_7) AppleWebKit/534.24 (KHTML, like Gecko) RockMelt/0.9.58.494 Chrome/11.0.696.71 Safari/534.24\"\n",
      "\n",
      "168.41.191.40 - - [09/Jul/2018:10:12:03 +0200] \"GET /docs/manage-websites/ HTTP/1.1\" 200 3574 \"-\" \"Mozilla/5.0 (X11; Linux i686; rv:6.0) Gecko/20100101 Firefox/6.0\"\n",
      "\n",
      "168.41.191.34 - - [10/Jul/2018:21:59:50 +0200] \"GET /faq/how-to/ HTTP/1.1\" 200 3574 \"-\" \"Mozilla/5.0 (compatible; MSIE 10.0; Windows NT 6.1; Trident/5.0)\"\n",
      "\n",
      "72.44.32.10 - - [09/Jul/2018:15:49:48 +0200] \"GET /translations/ HTTP/1.1\" 200 3574 \"-\" \"Mozilla/5.0 (X11; Linux x86_64) AppleWebKit/536.5 (KHTML, like Gecko) Chrome/19.0.1084.9 Safari/536.5\"\n",
      "\n",
      "79.125.00.21 - - [10/Jul/2018:20:03:40 +0200] \"GET /newsletter/ HTTP/1.1\" 200 3574 \"-\" \"Mozilla/5.0 (compatible; MSIE 10.0; Windows NT 6.1; Trident/5.0)\"\n",
      "\n",
      "50.112.00.11 - admin [11/Jul/2018:17:31:05 +0200] \"GET /hosting/ HTTP/1.1\" 200 3574 \"-\" \"Mozilla/5.0 (Windows NT 6.1; WOW64) AppleWebKit/536.6 (KHTML, like Gecko) Chrome/20.0.1092.0 Safari/536.6\"\n",
      "\n",
      "72.44.32.10 - - [09/Jul/2018:15:48:20 +0200] \"GET /download/counter/ HTTP/1.1\" 200 3574 \"-\" \"Mozilla/5.0 (X11; U; Linux x86; en-US) AppleWebKit/534.7 (KHTML, like Gecko) Epiphany/2.30.6 Safari/534.7\"\n",
      "\n",
      "50.112.00.11 - admin [11/Jul/2018:17:33:01 +0200] \"GET /asset.css HTTP/1.1\" 200 3574 \"-\" \"Mozilla/5.0 (Windows NT 6.1; WOW64) AppleWebKit/536.6 (KHTML, like Gecko) Chrome/20.0.1092.0 Safari/536.6\"\n",
      "\n"
     ]
    }
   ],
   "source": [
    "#Opening file and giving it structure to the log file. \n",
    "def main():\n",
    "    file=open(\"task.log\",\"r\")\n",
    "    lines=file.readlines()\n",
    "    file.close\n",
    "    \n",
    "    for line in lines:\n",
    "        print(line)\n",
    "main()"
   ]
  },
  {
   "cell_type": "markdown",
   "metadata": {},
   "source": [
    "## 1 - Number of unique IP addresses "
   ]
  },
  {
   "cell_type": "code",
   "execution_count": 27,
   "metadata": {},
   "outputs": [
    {
     "name": "stdout",
     "output_type": "stream",
     "text": [
      "177.71.128.21 \n",
      "168.41.191.40 \n",
      "168.41.191.41 \n",
      "168.41.191.40 \n",
      "177.71.128.21 \n",
      "168.41.191.9 \n",
      "168.41.191.40 \n",
      "168.41.191.34 \n",
      "177.71.128.21 \n",
      "50.112.00.28 \n",
      "50.112.00.11 \n",
      "72.44.32.11 \n",
      "72.44.32.10 \n",
      "168.41.191.9 \n",
      "168.41.191.43 \n",
      "168.41.191.43 \n",
      "168.41.191.40 \n",
      "168.41.191.34 \n",
      "72.44.32.10 \n",
      "79.125.00.21 \n",
      "50.112.00.11 \n",
      "72.44.32.10 \n",
      "50.112.00.11 \n"
     ]
    }
   ],
   "source": [
    "#Opening file\n",
    "fi=open ('task.log','r')\n",
    "fi.close\n",
    "\n",
    "for line in fi:\n",
    "    print (line.split ('-')[0]) #string slicing and splitting to get only IP address values"
   ]
  },
  {
   "cell_type": "code",
   "execution_count": 202,
   "metadata": {},
   "outputs": [
    {
     "name": "stdout",
     "output_type": "stream",
     "text": [
      "{'168.41.191.34', '72.44.32.11', '50.112.00.11', '168.41.191.43', '168.41.191.40', '177.71.128.21', '72.44.32.10', '168.41.191.41', '50.112.00.28', '79.125.00.21', '168.41.191.9'}\n",
      "11\n"
     ]
    }
   ],
   "source": [
    "#Using list of IP address to get the number of unique IP Addressess \n",
    "mylist= ['177.71.128.21','168.41.191.40','168.41.191.41', '168.41.191.40', '177.71.128.21', '168.41.191.9', '168.41.191.40', '168.41.191.34', '177.71.128.21', '50.112.00.28','50.112.00.11', '72.44.32.11', '72.44.32.10', '168.41.191.9', '168.41.191.43', '168.41.191.43', '168.41.191.40', '168.41.191.34', '72.44.32.10', '79.125.00.21', '50.112.00.11', '72.44.32.10', '50.112.00.11']\n",
    "myset= set(mylist) #to store multiple items in a single variable\n",
    "print(myset)\n",
    "print(len(myset))\n"
   ]
  },
  {
   "cell_type": "markdown",
   "metadata": {},
   "source": [
    "## 2 - Most visited URL"
   ]
  },
  {
   "cell_type": "code",
   "execution_count": 30,
   "metadata": {},
   "outputs": [
    {
     "name": "stdout",
     "output_type": "stream",
     "text": [
      "/intranet-analytics/\n",
      "http://example.net/faq/\n",
      "/this/page/does/not/exist/\n",
      "http://example.net/blog/category/meta/\n",
      "/blog/2018/08/survey-your-opinion-matters/\n",
      "/docs/manage-users/\n",
      "/blog/category/community/\n",
      "/faq/\n",
      "/docs/manage-websites/\n",
      "/faq/how-to-install/\n",
      "/asset.js\n",
      "/to-an-error\n",
      "/\n",
      "/docs/\n",
      "/moved-permanently\n",
      "/temp-redirect\n",
      "/docs/manage-websites/\n",
      "/faq/how-to/\n",
      "/translations/\n",
      "/newsletter/\n",
      "/hosting/\n",
      "/download/counter/\n",
      "/asset.css\n"
     ]
    }
   ],
   "source": [
    "#opening file \n",
    "def main():\n",
    "    #to read file\n",
    "    file=open(\"task.log\",\"r\")\n",
    "    lines=file.readlines() #to read each line separately \n",
    "    file.close\n",
    "    \n",
    "    #to look for patterns \n",
    "    for line in lines:\n",
    "        print(line.split()[6]) #to get specific value in the position on string and get list of URLS\n",
    "main()\n"
   ]
  },
  {
   "cell_type": "code",
   "execution_count": 203,
   "metadata": {},
   "outputs": [
    {
     "name": "stdout",
     "output_type": "stream",
     "text": [
      "{'/intranet-analytics/', '/faq/', 'http://example.net/blog/category/meta/', '/to-an-error', '/download/counter/', '/asset.js', '/translations/', '/blog/2018/08/survey-your-opinion-matters/', '/asset.css', 'http://example.net/faq/', 'this/page/does/not/exist/', '/newsletter/', '/faq/how-to-install/', '/temp-redirect', '/blog/category/community/', '/docs/manage-websites/', '/faq/how-to/', '/hosting/', '/docs/manage-users/', '/moved-permanently', '//docs/'}\n",
      "21\n"
     ]
    }
   ],
   "source": [
    "#Using the list of URL\n",
    "mynewlist=['/intranet-analytics/','http://example.net/faq/','this/page/does/not/exist/','http://example.net/blog/category/meta/','/blog/2018/08/survey-your-opinion-matters/','/docs/manage-users/','/blog/category/community/','/faq/','/docs/manage-websites/','/faq/how-to-install/','/asset.js','/to-an-error','//docs/','/moved-permanently','/temp-redirect','/docs/manage-websites/','/faq/how-to/','/translations/','/newsletter/','/hosting/','/download/counter/','/asset.css']\n",
    "mynewset=set(mynewlist)\n",
    "print(mynewset)\n",
    "print(len(mynewset)) #to know the lenght of URLs on list\n"
   ]
  },
  {
   "cell_type": "code",
   "execution_count": 33,
   "metadata": {},
   "outputs": [
    {
     "name": "stdout",
     "output_type": "stream",
     "text": [
      "URL:/docs/manage-websites/, frequency: 2\n"
     ]
    }
   ],
   "source": [
    "#The most used URL \n",
    "from collections import Counter #to count the objects in the list\n",
    "my_list= ['/intranet-analytics/','http://example.net/faq/','/this/page/does/not/exist/','http://example.net/blog/category/meta/','/blog/2018/08/survey-your-opinion-matters/','/docs/manage-users/','/blog/category/community/','/faq/','/docs/manage-websites/','/faq/how-to-install/','/asset.js','/to-an-error','//docs/','/moved-permanently','/temp-redirect','/docs/manage-websites/','/faq/how-to/','/translations/','/newsletter/','/hosting/','/download/counter/','/asset.css']\n",
    "counter = Counter (my_list)\n",
    "x= counter.most_common(3)[0]\n",
    "print(f\"URL:{x[0]}, frequency: {x[1]}\")  #to know the frequency an URL is used"
   ]
  },
  {
   "cell_type": "markdown",
   "metadata": {},
   "source": [
    "## 3 - Most active IP address\n"
   ]
  },
  {
   "cell_type": "code",
   "execution_count": 16,
   "metadata": {},
   "outputs": [
    {
     "name": "stdout",
     "output_type": "stream",
     "text": [
      "177.71.128.21 \n",
      "168.41.191.40 \n",
      "168.41.191.41 \n",
      "168.41.191.40 \n",
      "177.71.128.21 \n",
      "168.41.191.9 \n",
      "168.41.191.40 \n",
      "168.41.191.34 \n",
      "177.71.128.21 \n",
      "50.112.00.28 \n",
      "50.112.00.11 \n",
      "72.44.32.11 \n",
      "72.44.32.10 \n",
      "168.41.191.9 \n",
      "168.41.191.43 \n",
      "168.41.191.43 \n",
      "168.41.191.40 \n",
      "168.41.191.34 \n",
      "72.44.32.10 \n",
      "79.125.00.21 \n",
      "50.112.00.11 \n",
      "72.44.32.10 \n",
      "50.112.00.11 \n"
     ]
    }
   ],
   "source": [
    "#Opening file \n",
    "fi=open ('task.log','r')\n",
    "\n",
    "for line in fi:\n",
    "    print (line.split ('-')[0]) #string slicing and splitting to get only IP address values"
   ]
  },
  {
   "cell_type": "code",
   "execution_count": 25,
   "metadata": {},
   "outputs": [
    {
     "data": {
      "text/plain": [
       "{'177.71.128.21': 3,\n",
       " '168.41.191.40': 4,\n",
       " '168.41.191.41': 1,\n",
       " '168.41.191.9': 2,\n",
       " '168.41.191.34': 2,\n",
       " '50.112.00.28': 1,\n",
       " '50.112.00.11': 3,\n",
       " '72.44.32.11': 1,\n",
       " '72.44.32.10': 3,\n",
       " '168.41.191.43': 2,\n",
       " '79.125.00.21': 1}"
      ]
     },
     "execution_count": 25,
     "metadata": {},
     "output_type": "execute_result"
    }
   ],
   "source": [
    "#Using IP addresses list to know the frequency they are used \n",
    "my_list= ['177.71.128.21','168.41.191.40','168.41.191.41','168.41.191.40','177.71.128.21','168.41.191.9','168.41.191.40','168.41.191.34','177.71.128.21','50.112.00.28','50.112.00.11','72.44.32.11','72.44.32.10','168.41.191.9','168.41.191.43','168.41.191.43','168.41.191.40','168.41.191.34','72.44.32.10','79.125.00.21','50.112.00.11','72.44.32.10','50.112.00.11']\n",
    "d={x:my_list.count(x) for x in my_list}\n",
    "d"
   ]
  },
  {
   "cell_type": "code",
   "execution_count": 222,
   "metadata": {},
   "outputs": [
    {
     "name": "stdout",
     "output_type": "stream",
     "text": [
      "[('168.41.191.40', 4), ('177.71.128.21', 3), ('50.112.00.11', 3), ('72.44.32.10', 3), ('168.41.191.9', 2), ('168.41.191.34', 2), ('168.41.191.43', 2), ('168.41.191.41', 1), ('50.112.00.28', 1), ('72.44.32.11', 1), ('79.125.00.21', 1)]\n"
     ]
    }
   ],
   "source": [
    "# To know the most Active IP Addresses in order\n",
    "d={'177.71.128.21': 3, '168.41.191.40': 4, '168.41.191.41': 1, '168.41.191.9': 2, '168.41.191.34': 2, '50.112.00.28': 1, '50.112.00.11': 3, '72.44.32.11': 1, '72.44.32.10': 3, '168.41.191.43': 2, '79.125.00.21': 1}\n",
    "a=sorted(d.items(),key=lambda x:x[1], reverse = True) # for using as a parameter to a function to sort items\n",
    "print(a)"
   ]
  }
 ],
 "metadata": {
  "kernelspec": {
   "display_name": "Python 3",
   "language": "python",
   "name": "python3"
  },
  "language_info": {
   "codemirror_mode": {
    "name": "ipython",
    "version": 3
   },
   "file_extension": ".py",
   "mimetype": "text/x-python",
   "name": "python",
   "nbconvert_exporter": "python",
   "pygments_lexer": "ipython3",
   "version": "3.8.5"
  }
 },
 "nbformat": 4,
 "nbformat_minor": 4
}
